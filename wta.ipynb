{
 "metadata": {
  "language_info": {
   "codemirror_mode": {
    "name": "ipython",
    "version": 3
   },
   "file_extension": ".py",
   "mimetype": "text/x-python",
   "name": "python",
   "nbconvert_exporter": "python",
   "pygments_lexer": "ipython3",
   "version": "3.9.0"
  },
  "orig_nbformat": 2,
  "kernelspec": {
   "name": "python390jvsc74a57bd0ac59ebe37160ed0dfa835113d9b8498d9f09ceb179beaac4002f036b9467c963",
   "display_name": "Python 3.9.0 64-bit"
  },
  "metadata": {
   "interpreter": {
    "hash": "ac59ebe37160ed0dfa835113d9b8498d9f09ceb179beaac4002f036b9467c963"
   }
  }
 },
 "nbformat": 4,
 "nbformat_minor": 2,
 "cells": [
  {
   "source": [
    "# Authenticate"
   ],
   "cell_type": "markdown",
   "metadata": {}
  },
  {
   "cell_type": "code",
   "execution_count": 1,
   "metadata": {},
   "outputs": [],
   "source": [
    "apikey = \"3U3AUo9P-eHYvRv3wbTSn1G_6RlHa-pfB2dAmvgzduly\"\n",
    "url = \"https://api.us-south.tone-analyzer.watson.cloud.ibm.com/instances/e5fa8f2c-fc42-490f-83fc-ebf273132980\""
   ]
  },
  {
   "cell_type": "code",
   "execution_count": 2,
   "metadata": {},
   "outputs": [],
   "source": [
    "from ibm_watson import ToneAnalyzerV3\n",
    "from ibm_cloud_sdk_core.authenticators import IAMAuthenticator "
   ]
  },
  {
   "cell_type": "code",
   "execution_count": 4,
   "metadata": {},
   "outputs": [],
   "source": [
    "authenticator = IAMAuthenticator(apikey)\n",
    "ta = ToneAnalyzerV3(version = '2017-09-21', authenticator = authenticator)\n",
    "ta.set_service_url(url)"
   ]
  },
  {
   "source": [
    "# Analyze Tone"
   ],
   "cell_type": "markdown",
   "metadata": {}
  },
  {
   "cell_type": "code",
   "execution_count": 11,
   "metadata": {},
   "outputs": [],
   "source": [
    "res = ta.tone(\"I am feeling sad!\").get_result()"
   ]
  },
  {
   "cell_type": "code",
   "execution_count": 12,
   "metadata": {},
   "outputs": [
    {
     "output_type": "execute_result",
     "data": {
      "text/plain": [
       "{'document_tone': {'tones': [{'score': 1.0,\n",
       "    'tone_id': 'sadness',\n",
       "    'tone_name': 'Sadness'}]}}"
      ]
     },
     "metadata": {},
     "execution_count": 12
    }
   ],
   "source": [
    "res"
   ]
  },
  {
   "source": [
    "# Analyze Chat Tone"
   ],
   "cell_type": "markdown",
   "metadata": {}
  },
  {
   "cell_type": "code",
   "execution_count": 17,
   "metadata": {},
   "outputs": [],
   "source": [
    "chat = [\n",
    "    {\n",
    "        \"text\": \"I feel great, it's sunny out there and i've got all my work done\",\n",
    "        \"user\": \"Kabir\"\n",
    "    },\n",
    "    {\n",
    "        \"text\": \"This sucks, I have like 500 hours mode coding to do. Arggg! This is going to take the whole weekend\",\n",
    "        \"user\": \"Parth\"\n",
    "    }\n",
    "]"
   ]
  },
  {
   "cell_type": "code",
   "execution_count": 18,
   "metadata": {},
   "outputs": [
    {
     "output_type": "execute_result",
     "data": {
      "text/plain": [
       "{'utterances_tone': [{'utterance_id': 0,\n",
       "   'utterance_text': \"I feel great, it's sunny out there and i've got all my work done\",\n",
       "   'tones': [{'score': 0.842179,\n",
       "     'tone_id': 'excited',\n",
       "     'tone_name': 'Excited'}]},\n",
       "  {'utterance_id': 1,\n",
       "   'utterance_text': 'This sucks, I have like 500 hours mode coding to do. Arggg! This is going to take the whole weekend',\n",
       "   'tones': [{'score': 0.722244,\n",
       "     'tone_id': 'frustrated',\n",
       "     'tone_name': 'Frustrated'},\n",
       "    {'score': 0.827688, 'tone_id': 'impolite', 'tone_name': 'Impolite'}]}]}"
      ]
     },
     "metadata": {},
     "execution_count": 18
    }
   ],
   "source": [
    "res = ta.tone_chat(chat).get_result()\n",
    "res"
   ]
  },
  {
   "cell_type": "code",
   "execution_count": null,
   "metadata": {},
   "outputs": [],
   "source": []
  }
 ]
}